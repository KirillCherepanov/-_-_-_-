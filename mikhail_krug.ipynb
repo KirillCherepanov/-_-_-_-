{
 "cells": [
  {
   "cell_type": "code",
   "execution_count": 1,
   "id": "2d072bed",
   "metadata": {},
   "outputs": [],
   "source": [
    "import requests, json, urllib.parse"
   ]
  },
  {
   "cell_type": "code",
   "execution_count": 2,
   "id": "4596d2df",
   "metadata": {},
   "outputs": [],
   "source": [
    "base_url = 'https://itunes.apple.com/search'\n",
    "\n",
    "artist = 'Mikhail Krug'\n",
    "\n",
    "params = {\n",
    "    'term': artist,\n",
    "    'limit': 200,\n",
    "    'media': 'music',\n",
    "    'entity': 'song',\n",
    "    'attribute': 'artistTerm'\n",
    "}\n",
    "\n",
    "response = requests.get(f\"{base_url}?{urllib.parse.urlencode(params)}\")\n",
    "\n",
    "data = json.loads(response.text)\n",
    "data = data['results']"
   ]
  },
  {
   "cell_type": "code",
   "execution_count": 3,
   "id": "6def9822",
   "metadata": {},
   "outputs": [
    {
     "name": "stdout",
     "output_type": "stream",
     "text": [
      "['wrapperType', 'kind', 'artistId', 'collectionId', 'trackId', 'artistName', 'collectionName', 'trackName', 'collectionCensoredName', 'trackCensoredName', 'artistViewUrl', 'collectionViewUrl', 'trackViewUrl', 'previewUrl', 'artworkUrl30', 'artworkUrl60', 'artworkUrl100', 'collectionPrice', 'trackPrice', 'releaseDate', 'collectionExplicitness', 'trackExplicitness', 'discCount', 'discNumber', 'trackCount', 'trackNumber', 'trackTimeMillis', 'country', 'currency', 'primaryGenreName', 'isStreamable']\n"
     ]
    }
   ],
   "source": [
    "# Все доступные ключи объекта\n",
    "print(list(data[0].keys()))"
   ]
  },
  {
   "cell_type": "code",
   "execution_count": 4,
   "id": "a74e37a6",
   "metadata": {},
   "outputs": [],
   "source": [
    "import dateutil.parser\n",
    "\n",
    "# Преобразование строки с датой в объект даты\n",
    "# **x - скопировать все поля из объекта x\n",
    "data = map(lambda x: {**x, 'releaseDate': dateutil.parser.isoparse(x['releaseDate'])}, data)\n",
    "data = list(data)"
   ]
  },
  {
   "cell_type": "code",
   "execution_count": 5,
   "id": "3d520f83",
   "metadata": {},
   "outputs": [
    {
     "name": "stdout",
     "output_type": "stream",
     "text": [
      "['artistId', 'collectionId', 'trackId', 'artistName', 'collectionName', 'trackName', 'collectionPrice', 'trackPrice', 'releaseDate', 'collectionExplicitness', 'trackExplicitness', 'discCount', 'discNumber', 'trackCount', 'trackNumber', 'trackTimeMillis', 'country', 'currency', 'primaryGenreName', 'isStreamable']\n"
     ]
    }
   ],
   "source": [
    "# Убираем лишние поля\n",
    "data = map(lambda x: {\n",
    "    'artistId': x['artistId'],\n",
    "    'collectionId': x['collectionId'],\n",
    "    'trackId': x['trackId'],\n",
    "    'artistName': x['artistName'],\n",
    "    'collectionName': x['collectionCensoredName'],\n",
    "    'trackName': x['trackCensoredName'],\n",
    "    'collectionPrice': x['collectionPrice'],\n",
    "    'trackPrice': x['trackPrice'],\n",
    "    'releaseDate': x['releaseDate'],\n",
    "    'collectionExplicitness': x['collectionExplicitness'],\n",
    "    'trackExplicitness': x['trackExplicitness'],\n",
    "    'discCount': x['discCount'],\n",
    "    'discNumber': x['discNumber'],\n",
    "    'trackCount': x['trackCount'],\n",
    "    'trackNumber': x['trackNumber'],\n",
    "    'trackTimeMillis': x['trackTimeMillis'],\n",
    "    'country': x['country'],\n",
    "    'currency': x['currency'],\n",
    "    'primaryGenreName': x['primaryGenreName'],\n",
    "    'isStreamable': x['isStreamable']\n",
    "}, data)\n",
    "data = list(data)\n",
    "print(list(data[0].keys()))"
   ]
  },
  {
   "cell_type": "code",
   "execution_count": 6,
   "id": "8bf226c7",
   "metadata": {},
   "outputs": [
    {
     "name": "stdout",
     "output_type": "stream",
     "text": [
      "{'Mikhail Krug & Vika Tsyganova', 'Mikhail Krug & Gruppa Poputchik', 'Irina Krug & Mikhail Krug', 'Mikhail Krug', 'Mikhail Krug & Svetlana Ternova'}\n"
     ]
    }
   ],
   "source": [
    "# Уникальные названия артистов\n",
    "print(set(map(lambda x: x['artistName'], data)))"
   ]
  },
  {
   "cell_type": "code",
   "execution_count": 7,
   "id": "c2ed5095",
   "metadata": {},
   "outputs": [],
   "source": [
    "# Фильтрация с целью оставить искомого артиста\n",
    "data = filter(lambda x: artist.lower() in x['artistName'].lower(), data)\n",
    "data = list(data)"
   ]
  },
  {
   "cell_type": "code",
   "execution_count": 8,
   "id": "6df0d374",
   "metadata": {},
   "outputs": [
    {
     "name": "stdout",
     "output_type": "stream",
     "text": [
      "First song: Кольщик 1993-05-23 12:00:00+00:00\n",
      "Last song: Приходите в мой дом 2020-08-12 12:00:00+00:00\n"
     ]
    }
   ],
   "source": [
    "release_date_extractor = lambda x: x['releaseDate']\n",
    "\n",
    "first_song = min(data, key=release_date_extractor)\n",
    "\n",
    "print('First song:', first_song['trackName'], first_song['releaseDate'])\n",
    "\n",
    "latest_song = max(data, key=release_date_extractor)\n",
    "\n",
    "print('Last song:', latest_song['trackName'], latest_song['releaseDate'])"
   ]
  },
  {
   "cell_type": "code",
   "execution_count": 9,
   "id": "0a9d41ad",
   "metadata": {},
   "outputs": [],
   "source": [
    "# Функция переводящая миллисекунды в читаемый формат времени\n",
    "def convert_millis(millis: int) -> str:\n",
    "    total_seconds = millis // 1000\n",
    "    seconds = total_seconds % 60\n",
    "    minutes = (total_seconds // 60) % 60\n",
    "    hours = (total_seconds // (60 * 60))\n",
    "    return f\"{hours}H{minutes}M{seconds}S\""
   ]
  },
  {
   "cell_type": "code",
   "execution_count": 10,
   "id": "165f6469",
   "metadata": {},
   "outputs": [
    {
     "name": "stdout",
     "output_type": "stream",
     "text": [
      "Longest song: Galley Gypsy Dance 0H5M51S\n",
      "Shortest song: Late Rubl 0H2M12S\n"
     ]
    }
   ],
   "source": [
    "time_extractor = lambda x: x['trackTimeMillis']\n",
    "longest_song = max(data, key=time_extractor)\n",
    "\n",
    "print('Longest song:', longest_song['trackName'], convert_millis(longest_song['trackTimeMillis']))\n",
    "\n",
    "shortest_song = min(data, key=time_extractor)\n",
    "\n",
    "print('Shortest song:', shortest_song['trackName'], convert_millis(shortest_song['trackTimeMillis']))"
   ]
  },
  {
   "cell_type": "code",
   "execution_count": 11,
   "id": "dd9d958d",
   "metadata": {},
   "outputs": [
    {
     "name": "stdout",
     "output_type": "stream",
     "text": [
      "['Роза', 'Посвящение', 'Студентка', 'Duets', 'Мышка', 'Магадан', 'История любви', '50 Greatest Hits (Big Chanson Collection)', 'Любимой Женщине', 'Мой Бог', 'Golden Album - Greatest Hits', 'Legends of Russian Chanson. 20 Years', 'All Stars of Shanson', 'Golden Duets of Russian Chanson', 'Лучшие дуэты', 'Лучшие блатные дуэты', 'Десять лет спустя', '55 лет. Юбилейный альбом', 'Лучшие песни', 'Мадам', 'Жиганские песни', 'Исповедь', 'Владимирский централ', 'Лирика', 'Дискотека русского шансона']\n"
     ]
    }
   ],
   "source": [
    "from itertools import groupby\n",
    "\n",
    "collection_id_extractor = lambda x: x['collectionId']\n",
    "\n",
    "sorted_by_album = sorted(data, key=collection_id_extractor)\n",
    "album_groups = {}\n",
    "album_names = {}\n",
    "\n",
    "for album_id, songs in groupby(sorted_by_album, key=collection_id_extractor):\n",
    "    songs = list(songs)\n",
    "    album_groups[album_id] = songs \n",
    "    album_names[album_id] = songs[0]['collectionName']\n",
    "\n",
    "# Удаление переменной, действие опционально\n",
    "del sorted_by_album\n",
    "\n",
    "print(list(album_names.values()))"
   ]
  },
  {
   "cell_type": "code",
   "execution_count": 12,
   "id": "b810c6a5",
   "metadata": {},
   "outputs": [
    {
     "name": "stdout",
     "output_type": "stream",
     "text": [
      "Max album songs: 50 Greatest Hits (Big Chanson Collection) 50\n",
      "Min album songs: Мышка 1\n"
     ]
    }
   ],
   "source": [
    "album_songs_count_extractor = lambda x: len(x[1])\n",
    "\n",
    "album_with_max_songs = max(album_groups.items(), key=album_songs_count_extractor)\n",
    "print('Max album songs:', album_names[album_with_max_songs[0]], len(album_with_max_songs[1]))\n",
    "\n",
    "album_with_min_songs = min(album_groups.items(), key=album_songs_count_extractor)\n",
    "print('Min album songs:', album_names[album_with_min_songs[0]], len(album_with_min_songs[1]))"
   ]
  },
  {
   "cell_type": "code",
   "execution_count": 13,
   "id": "ce187c2f",
   "metadata": {},
   "outputs": [
    {
     "name": "stdout",
     "output_type": "stream",
     "text": [
      "Max album duration: 50 Greatest Hits (Big Chanson Collection) 3H4M31S\n",
      "Min album duration: Лучшие дуэты 0H3M0S\n"
     ]
    }
   ],
   "source": [
    "album_durations = map(lambda x: (x[0], sum(map(time_extractor, x[1]))), album_groups.items())\n",
    "album_durations = dict(album_durations)\n",
    "\n",
    "album_with_max_duration = max(album_durations.items(), key=lambda x: x[1])\n",
    "print('Max album duration:', album_names[album_with_max_duration[0]], convert_millis(album_with_max_duration[1]))\n",
    "\n",
    "album_witn_min_duration = min(album_durations.items(), key=lambda x: x[1])\n",
    "print('Min album duration:', album_names[album_witn_min_duration[0]], convert_millis(album_witn_min_duration[1]))"
   ]
  },
  {
   "cell_type": "code",
   "execution_count": 51,
   "id": "5f802927",
   "metadata": {},
   "outputs": [
    {
     "name": "stdout",
     "output_type": "stream",
     "text": [
      "Mikhail Krug\n",
      "186\n",
      "Chanson in Russian\n",
      "25\n",
      "12H1M6S\n",
      "0H3M52S\n",
      "0H3M48S\n",
      "Galley Gypsy Dance\n",
      "0H5M51S\n",
      "Late Rubl\n",
      "0H2M12S\n",
      "238.43999999999966\n",
      "1.2819354838709678\n",
      "1.29\n",
      "Come into My House (feat. Vika Tsyganova)\n",
      "1.29\n",
      "That Was Yesterday\n",
      "0.99\n"
     ]
    }
   ],
   "source": [
    "from statistics import mean, median\n",
    "print(max([data[i]['artistName'] for i in range(len(data))], key=[data[i]['artistName'] for i in range(len(data))].count))\n",
    "print(len(list(map(lambda x: x['trackId'],data))))\n",
    "print(max(list(map(lambda x: x['primaryGenreName'], data)), key=list(map(lambda x: x['primaryGenreName'], data)).count))\n",
    "print(len(set(map(lambda x: x['collectionId'], data))))\n",
    "print(convert_millis(sum(list(map(lambda x: x['trackTimeMillis'], data)))))\n",
    "print(convert_millis(round(mean(list(map(lambda x: x['trackTimeMillis'], data))))))\n",
    "print(convert_millis(round(median(list(map(lambda x: x['trackTimeMillis'], data))))))\n",
    "print(max(list(map(lambda x: [x['trackTimeMillis'], x['trackName']], data)), key=lambda x: x[0])[1])\n",
    "print(convert_millis(max(list(map(lambda x: [x['trackTimeMillis'], x['trackName']], data)), key=lambda x: x[0])[0]))\n",
    "print(min(list(map(lambda x: [x['trackTimeMillis'], x['trackName']], data)), key=lambda x: x[0])[1])\n",
    "print(convert_millis(min(list(map(lambda x: [x['trackTimeMillis'], x['trackName']], data)), key=lambda x: x[0])[0]))\n",
    "\n",
    "print((sum(list(map(lambda x: x['trackPrice'], data)))))\n",
    "print(((mean(list(map(lambda x: x['trackPrice'], data))))))\n",
    "print(((median(list(map(lambda x: x['trackPrice'], data))))))\n",
    "print(max(list(map(lambda x: [x['trackPrice'], x['trackName']], data)), key=lambda x: x[0])[1])\n",
    "print((max(list(map(lambda x: [x['trackPrice'], x['trackName']], data)), key=lambda x: x[0])[0]))\n",
    "print(min(list(map(lambda x: [x['trackPrice'], x['trackName']], data)), key=lambda x: x[0])[1])\n",
    "print((min(list(map(lambda x: [x['trackPrice'], x['trackName']], data)), key=lambda x: x[0])[0]))"
   ]
  },
  {
   "cell_type": "code",
   "execution_count": 53,
   "id": "e89cf4ea",
   "metadata": {},
   "outputs": [
    {
     "name": "stdout",
     "output_type": "stream",
     "text": [
      "Мадам\n",
      "10\n",
      "Chanson in Russian\n",
      "1998-11-30 12:00:00+00:00\n",
      "0H39M28S\n",
      "0H3M56S\n",
      "0H4M9S\n",
      "Мой Бог (Маравихер-2)\n",
      "0H5M35S\n",
      "Здравствуйте\n",
      "0H2M34S\n",
      "12.899999999999999\n",
      "1.29\n",
      "1.29\n",
      "Владимирский централ\n",
      "1.29\n",
      "Владимирский централ\n",
      "1.29\n"
     ]
    }
   ],
   "source": [
    "from statistics import mean, median\n",
    "album = [d for d in data if d['collectionName'] == 'Мадам']\n",
    "print(album[0]['collectionName'])\n",
    "print(len(list(map(lambda x: x['trackId'],album))))\n",
    "print(max(list(map(lambda x: x['primaryGenreName'], album)), key=list(map(lambda x: x['primaryGenreName'], album)).count))\n",
    "print(album[0]['releaseDate'])\n",
    "print(convert_millis(sum(list(map(lambda x: x['trackTimeMillis'], album)))))\n",
    "print(convert_millis(round(mean(list(map(lambda x: x['trackTimeMillis'], album))))))\n",
    "print(convert_millis(round(median(list(map(lambda x: x['trackTimeMillis'], album))))))\n",
    "print(max(list(map(lambda x: [x['trackTimeMillis'], x['trackName']], album)), key=lambda x: x[0])[1])\n",
    "print(convert_millis(max(list(map(lambda x: [x['trackTimeMillis'], x['trackName']], album)), key=lambda x: x[0])[0]))\n",
    "print(min(list(map(lambda x: [x['trackTimeMillis'], x['trackName']], album)), key=lambda x: x[0])[1])\n",
    "print(convert_millis(min(list(map(lambda x: [x['trackTimeMillis'], x['trackName']], album)), key=lambda x: x[0])[0]))\n",
    "\n",
    "print((sum(list(map(lambda x: x['trackPrice'], album)))))\n",
    "print(((mean(list(map(lambda x: x['trackPrice'], album))))))\n",
    "print(((median(list(map(lambda x: x['trackPrice'], album))))))\n",
    "print(max(list(map(lambda x: [x['trackPrice'], x['trackName']], album)), key=lambda x: x[0])[1])\n",
    "print((max(list(map(lambda x: [x['trackPrice'], x['trackName']], album)), key=lambda x: x[0])[0]))\n",
    "print(min(list(map(lambda x: [x['trackPrice'], x['trackName']], album)), key=lambda x: x[0])[1])\n",
    "print((min(list(map(lambda x: [x['trackPrice'], x['trackName']], album)), key=lambda x: x[0])[0]))"
   ]
  },
  {
   "cell_type": "code",
   "execution_count": null,
   "id": "930785cd",
   "metadata": {},
   "outputs": [],
   "source": []
  }
 ],
 "metadata": {
  "kernelspec": {
   "display_name": "Python 3 (ipykernel)",
   "language": "python",
   "name": "python3"
  },
  "language_info": {
   "codemirror_mode": {
    "name": "ipython",
    "version": 3
   },
   "file_extension": ".py",
   "mimetype": "text/x-python",
   "name": "python",
   "nbconvert_exporter": "python",
   "pygments_lexer": "ipython3",
   "version": "3.9.12"
  }
 },
 "nbformat": 4,
 "nbformat_minor": 5
}
